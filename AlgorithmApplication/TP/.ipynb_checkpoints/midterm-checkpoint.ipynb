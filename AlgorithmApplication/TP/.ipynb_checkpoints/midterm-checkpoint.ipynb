{
 "cells": [
  {
   "cell_type": "code",
   "execution_count": 2,
   "metadata": {},
   "outputs": [],
   "source": [
    "import codecs\n",
    "import random\n",
    "from collections import OrderedDict\n",
    "\n",
    "import numpy as np\n",
    "import matplotlib.pyplot as plt\n",
    "from sklearn.preprocessing import MinMaxScaler"
   ]
  },
  {
   "cell_type": "code",
   "execution_count": 3,
   "metadata": {},
   "outputs": [],
   "source": [
    "# euclidean 거리\n",
    "# 짧은 거리를 출력 -> centers\n",
    "def get_euclidean(data, center):\n",
    "    # 좌표값을 주면 거리를 계산하여 리턴.\n",
    "    return np.sqrt(np.dot(data - center, data - center))\n"
   ]
  },
  {
   "cell_type": "code",
   "execution_count": 4,
   "metadata": {},
   "outputs": [],
   "source": [
    "def draw_graph(data, labels):\n",
    "    plt.figure()\n",
    "    plt.scatter(data[:, 0], data[:, 1], c=labels, cmap='rainbow')\n",
    "    plt.show()"
   ]
  },
  {
   "cell_type": "code",
   "execution_count": 5,
   "metadata": {},
   "outputs": [],
   "source": [
    "# 정규화 하는 부분\n",
    "def norm(data):\n",
    "    scaler = MinMaxScaler()\n",
    "    data[:] = scaler.fit_transform(data[:]) # 정규화\n",
    "    return data\n"
   ]
  },
  {
   "cell_type": "code",
   "execution_count": 6,
   "metadata": {},
   "outputs": [],
   "source": [
    "# 데이터를 읽고 필요한 부분만 추출\n",
    "def read_data():\n",
    "    data = []\n",
    "    with codecs.open('user1.txt', 'r', 'utf-8') as user:\n",
    "        first_line = user.readline() # 사이트의 이름 제거\n",
    "        lines = user.readlines()\n",
    "        for line in lines:\n",
    "            line = line.rstrip()\n",
    "            data.append(line.split('\\t'))\n",
    "    data = np.array(data)\n",
    "    data = np.delete(data, [0], 1) # 사용자의 ip 주소\n",
    "    data = np.array(data, dtype=np.float)\n",
    "\n",
    "    return data"
   ]
  },
  {
   "cell_type": "code",
   "execution_count": 7,
   "metadata": {},
   "outputs": [],
   "source": [
    "class KMeans(object):\n",
    "    # data: 데이터\n",
    "    # n: 군집수\n",
    "    def __init__(self, data, n):\n",
    "        self.data = data\n",
    "        self.n = n\n",
    "        self.cluster = OrderedDict()  # 군집화된 구조를 체계적으로 나타내고 있음\n",
    "\n",
    "    # 75개 중에 중복을 제외한 n개의 데이터를 뽑아냄\n",
    "    # 이거는 초기에 실행되고 끝.\n",
    "    def init_center(self):\n",
    "        index = random.randint(0, self.n)\n",
    "        index_list = []\n",
    "        for i in range(self.n):\n",
    "            # 위에서 뽑은 index가 index_list에 실제로 들어 있는지를 판단\n",
    "            while index in index_list:\n",
    "                # 중복된 값이 있으면 새로운 값을 뽑아 옴\n",
    "                index = random.randint(0, self.n)\n",
    "            index_list.append(index)\n",
    "            # key: 중심\n",
    "            self.cluster[i] = {'center': self.data[index], 'data': []}\n",
    "\n",
    "    # 가장 가까운 center 값에 mapping 해줌\n",
    "    # euclidean 거리를 이용하여 cluster dict 채움\n",
    "    def clustering(self, cluster):\n",
    "        center = []\n",
    "        com_data = [[] for i in range(len(cluster.keys()))]\n",
    "        for i in range(len(self.data)):\n",
    "            eucl_data = []\n",
    "            for j in range(len(cluster.keys())):\n",
    "                center.append(self.cluster[j]['center'])\n",
    "                euclidean = np.linalg.norm(center[j] - self.data[i])\n",
    "                eucl_data.append(euclidean)\n",
    "            for index in range(len(cluster.keys())):\n",
    "                if (np.argmin(eucl_data) == index):\n",
    "                    com_data[index].append(self.data[i])\n",
    "        for i in range(len(cluster.keys())):\n",
    "            self.cluster[i]['data'] = com_data[i]\n",
    "\n",
    "        return self.cluster\n",
    "\n",
    "    # 센터값을 모두 업데이트.\n",
    "    def update_center(self):\n",
    "        cen_data = [[] for i in range(self.n)]\n",
    "        cen_data1 = []\n",
    "        cen_data2 = []\n",
    "        compare = [[] for i in range(self.n)]\n",
    "\n",
    "        for i in range(self.n):  # 기존 센터값\n",
    "            cen_data1.append(self.cluster[i].get('center'))\n",
    "\n",
    "        for i in range(self.n):\n",
    "            data_avg = np.average(self.cluster[i]['data'], axis=0)\n",
    "            cen_data[i].append(data_avg)\n",
    "        for i in range(self.n):\n",
    "            self.cluster[i]['center'] = cen_data[i]\n",
    "\n",
    "        for i in range(self.n):  # 바뀐 센터값\n",
    "            cen_data2.append(self.cluster[i].get('center'))\n",
    "        cen_data2 = [elem for twd in cen_data2 for elem in twd]\n",
    "\n",
    "        for i in range(self.n):  # 센터값 비교\n",
    "            compare[i].append(cen_data1[i] == cen_data2[i])\n",
    "        compare = np.array(compare).flatten()\n",
    "\n",
    "        return self.cluster, compare\n",
    "\n",
    "\n",
    "\n",
    "    def update(self):\n",
    "        while True:\n",
    "            new_cluster, compare = self.update_center()\n",
    "            chk = compare.all()\n",
    "            if (chk == True):\n",
    "                # print('while true',chk)\n",
    "                break\n",
    "            self.clustering(new_cluster)\n",
    "\n",
    "        return\n",
    "\n",
    "    # 외부에서 실행하는 부분\n",
    "    def fit(self):\n",
    "        self.init_center()\n",
    "        self.cluster = self.clustering(self.cluster)\n",
    "        # 여기서 계속 돌아갈 수 있게\n",
    "        self.update()\n",
    "\n",
    "        result, labels = self.get_result(self.cluster)\n",
    "        draw_graph(result, labels)\n",
    "\n",
    "    def get_result(self, cluster):\n",
    "        result = []\n",
    "        labels = []\n",
    "        for key, value in cluster.items():\n",
    "            for item in value['data']:\n",
    "                labels.append(key)\n",
    "                result.append(item)\n",
    "\n",
    "        return np.array(result), labels"
   ]
  },
  {
   "cell_type": "code",
   "execution_count": 8,
   "metadata": {},
   "outputs": [
    {
     "data": {
      "image/png": "[encoded data removed]",
      "text/plain": [
       "<Figure size 432x288 with 1 Axes>"
      ]
     },
     "metadata": {
      "needs_background": "light"
     },
     "output_type": "display_data"
    }
   ],
   "source": [
    "if __name__ == '__main__':\n",
    "    data = read_data()\n",
    "    data = norm(data)\n",
    "    model = KMeans(data, 6)\n",
    "    model.fit()\n"
   ]
  }
 ],
 "metadata": {
  "kernelspec": {
   "display_name": "Python 3",
   "language": "python",
   "name": "python3"
  },
  "language_info": {
   "codemirror_mode": {
    "name": "ipython",
    "version": 3
   },
   "file_extension": ".py",
   "mimetype": "text/x-python",
   "name": "python",
   "nbconvert_exporter": "python",
   "pygments_lexer": "ipython3",
   "version": "3.7.6"
  }
 },
 "nbformat": 4,
 "nbformat_minor": 4
}
